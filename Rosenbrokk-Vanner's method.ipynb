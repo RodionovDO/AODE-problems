{
 "cells": [
  {
   "cell_type": "code",
   "execution_count": 1,
   "id": "a4da5858",
   "metadata": {},
   "outputs": [],
   "source": [
    "#Контакты - danila2012r@yandex.ru\n",
    "#tg - @aggle_flomaster"
   ]
  },
  {
   "cell_type": "code",
   "execution_count": 2,
   "id": "ad9b147f",
   "metadata": {},
   "outputs": [],
   "source": [
    "from matplotlib.pyplot import *\n",
    "from matplotlib.animation import * \n",
    "from numpy import *\n",
    "import warnings\n",
    "warnings.filterwarnings(\"ignore\")"
   ]
  },
  {
   "cell_type": "code",
   "execution_count": 3,
   "id": "101399cb",
   "metadata": {},
   "outputs": [],
   "source": [
    "from IPython import get_ipython\n",
    "get_ipython().run_line_magic('matplotlib', 'qt') "
   ]
  },
  {
   "cell_type": "markdown",
   "id": "04f18073",
   "metadata": {},
   "source": [
    "# Начальные данные и параметры задачи"
   ]
  },
  {
   "cell_type": "code",
   "execution_count": 4,
   "id": "5edb4757",
   "metadata": {},
   "outputs": [],
   "source": [
    "\n",
    "t_0 = 0\n",
    "t_1=50       #Временной отрезок [0;50]\n",
    "x_0 = 3        #Начальные данные\n",
    "y_0 = -4.\n",
    "v_x_0 = -0.8 #Скорость\n",
    "v_y_0 = -0.6\n",
    "g = 9.81\n",
    "L = 5.0\n",
    "q=1/L\n",
    "T=10\n",
    "mass = 1.0\n",
    "alpha = (1 + 1j)/2; \n",
    "M = 10000\n",
    "tau = (t_1 - t_0)/M   #Шаг по времени\n",
    "t = linspace(t_0,t_1,M + 1) #Сетка"
   ]
  },
  {
   "cell_type": "code",
   "execution_count": 5,
   "id": "56ef320c",
   "metadata": {},
   "outputs": [],
   "source": [
    "def gravity(t):\n",
    "    return 9.81 + 0.05*np.sin(2*np.pi*t)"
   ]
  },
  {
   "cell_type": "markdown",
   "id": "6a83dc62",
   "metadata": {},
   "source": [
    "# Правая часть"
   ]
  },
  {
   "cell_type": "code",
   "execution_count": 6,
   "id": "469b91c7",
   "metadata": {},
   "outputs": [],
   "source": [
    "def f(u,g,mass,l):\n",
    "    f = zeros(5)\n",
    "    f[0] = u[2]\n",
    "    f[1] = u[3]\n",
    "    f[2] = -q*u[4]*u[0]/mass;          \n",
    "    f[3] = -g - q*u[4]*u[1]/mass;\n",
    "    f[4] = u[0]**2 + u[1]**2 - l**2;\n",
    "    return f"
   ]
  },
  {
   "cell_type": "markdown",
   "id": "67724669",
   "metadata": {},
   "source": [
    "# Матрица системы D"
   ]
  },
  {
   "cell_type": "code",
   "execution_count": 7,
   "id": "35d4a760",
   "metadata": {},
   "outputs": [],
   "source": [
    "def D():\n",
    "    D = zeros((5,5))\n",
    "    \n",
    "    for i in range(4):           \n",
    "        D[i,i] = 1.\n",
    "    return D"
   ]
  },
  {
   "cell_type": "markdown",
   "id": "52fa1039",
   "metadata": {},
   "source": [
    "# Матрица Якоби"
   ]
  },
  {
   "cell_type": "code",
   "execution_count": 8,
   "id": "66eef0dc",
   "metadata": {},
   "outputs": [],
   "source": [
    "def f_u(u,g,mass,l):\n",
    "    f_u = zeros((5,5))\n",
    "\n",
    "    f_u[0,2] = 1\n",
    "    f_u[1,3] = 1\n",
    "    f_u[2,0] = -q*u[4]/mass       \n",
    "    f_u[2,4] = -q*u[0]/mass\n",
    "    f_u[3,1] = -q*u[4]/mass\n",
    "    f_u[3,4] = -q*u[1]/mass\n",
    "    f_u[4,0] = 2*u[0]\n",
    "    f_u[4,1] = 2*u[1]\n",
    "    return f_u\n",
    "\n",
    "\n"
   ]
  },
  {
   "cell_type": "markdown",
   "id": "df609d3f",
   "metadata": {},
   "source": [
    "# Проход схемы Ваннера-Розенброка"
   ]
  },
  {
   "cell_type": "code",
   "execution_count": 9,
   "id": "9fc9e61f",
   "metadata": {},
   "outputs": [],
   "source": [
    "u = zeros((M + 1,5))\n",
    "u[0,:] = [x_0, y_0, v_x_0, v_y_0, mass*g] \n",
    "for m in range(M):\n",
    "    g=gravity(t[m])\n",
    "    w_1 = linalg.solve(D() - alpha*tau*f_u(u[m],g,mass,L), f(u[m],g,mass,L))\n",
    "    u[m + 1] = u[m] + tau*w_1.real\n"
   ]
  },
  {
   "cell_type": "markdown",
   "id": "aac5b8b6",
   "metadata": {},
   "source": [
    "# Отрисовка траекторий $x(t)$ и $y(t)$"
   ]
  },
  {
   "cell_type": "code",
   "execution_count": 10,
   "id": "b51c8472",
   "metadata": {},
   "outputs": [],
   "source": [
    "plot(t, u.T[0], label='$x(t)$')\n",
    "plot(t, u.T[1], label='$y(t)$')\n",
    "xlabel('t')\n",
    "legend()\n",
    "show()"
   ]
  },
  {
   "cell_type": "markdown",
   "id": "1ab07d85",
   "metadata": {},
   "source": [
    "# Отрисовка $f(t)=\\sqrt{x^2(t)+y^2(t)}$ в осях $(t, f)$"
   ]
  },
  {
   "cell_type": "code",
   "execution_count": 11,
   "id": "fd3fb75c",
   "metadata": {},
   "outputs": [],
   "source": [
    "figure()\n",
    "plot(t, u.T[0]**2+u.T[1]**2, label='$\\sqrt{x^2(t)+y^2(t)}$')\n",
    "xlabel('t')\n",
    "legend(loc='upper right')\n",
    "show()"
   ]
  },
  {
   "cell_type": "markdown",
   "id": "9b60bd7f",
   "metadata": {},
   "source": [
    "# Анимация движения маятника "
   ]
  },
  {
   "cell_type": "code",
   "execution_count": 15,
   "id": "e1dc8f28",
   "metadata": {},
   "outputs": [],
   "source": [
    "fig = figure()\n",
    "ax = axes(xlim=(-5*1.62,5*1.62), ylim=(-7.5,3.5))\n",
    "plot(0,0,'or', color=\"red\", marker='o', markersize=7)\n",
    "plot((-2,2),(0,0),'-')\n",
    "rod, = ax.plot([], [], color=\"blue\", lw=3)\n",
    "bob, = ax.plot([], [], color=\"blue\", marker='o', markersize=7)\n",
    "\n",
    "def init():\n",
    "    rod.set_data([], [])\n",
    "    bob.set_data([], [])\n",
    "    return rod,bob,                                 \n",
    "\n",
    "def animate(i):\n",
    "    rod.set_data((0,u[i,0]),(0,u[i,1]))\n",
    "    bob.set_data(u[i,0],u[i,1])\n",
    "    return rod,bob,\n",
    "anim = FuncAnimation(fig, animate, init_func=init,frames = M + 1, interval = 15, blit=True)\n"
   ]
  },
  {
   "cell_type": "code",
   "execution_count": null,
   "id": "88110b39",
   "metadata": {},
   "outputs": [],
   "source": []
  }
 ],
 "metadata": {
  "kernelspec": {
   "display_name": "Python 3 (ipykernel)",
   "language": "python",
   "name": "python3"
  },
  "language_info": {
   "codemirror_mode": {
    "name": "ipython",
    "version": 3
   },
   "file_extension": ".py",
   "mimetype": "text/x-python",
   "name": "python",
   "nbconvert_exporter": "python",
   "pygments_lexer": "ipython3",
   "version": "3.8.10"
  }
 },
 "nbformat": 4,
 "nbformat_minor": 5
}
